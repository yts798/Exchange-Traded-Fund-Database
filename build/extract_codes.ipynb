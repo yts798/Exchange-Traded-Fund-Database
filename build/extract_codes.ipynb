{
 "cells": [
  {
   "cell_type": "code",
   "execution_count": 14,
   "id": "7069b2d7",
   "metadata": {},
   "outputs": [],
   "source": [
    "import os\n",
    "import pandas as pd\n",
    "import numpy as np\n",
    "import pickle"
   ]
  },
  {
   "cell_type": "code",
   "execution_count": 3,
   "id": "80531e4c",
   "metadata": {},
   "outputs": [],
   "source": [
    "# 绝对路径\n",
    "pwd = os.getcwd()  \n",
    "father_path1=os.path.abspath(os.path.dirname(pwd)+os.path.sep+\".\")\n",
    "# father_path1"
   ]
  },
  {
   "cell_type": "code",
   "execution_count": 4,
   "id": "76326525",
   "metadata": {},
   "outputs": [],
   "source": [
    "zh_path =  os.path.join(father_path1, \"meta\\\\行业主题etf名单.xlsx\")\n",
    "zh = pd.read_excel(zh_path)"
   ]
  },
  {
   "cell_type": "code",
   "execution_count": 5,
   "id": "64fa7964",
   "metadata": {},
   "outputs": [],
   "source": [
    "zh_code = []\n",
    "for i in zh.index:\n",
    "    zh_code.append(zh['id'][i])"
   ]
  },
  {
   "cell_type": "code",
   "execution_count": 6,
   "id": "75a17f2b",
   "metadata": {},
   "outputs": [
    {
     "data": {
      "text/plain": [
       "['512660.SH',\n",
       " '512710.SH',\n",
       " '512670.SH',\n",
       " '159638.SZ',\n",
       " '159667.SZ',\n",
       " '516960.SH',\n",
       " '562500.SH',\n",
       " '516800.SH',\n",
       " '159997.SZ',\n",
       " '515260.SH',\n",
       " '515790.SH',\n",
       " '515030.SH',\n",
       " '515700.SH',\n",
       " '516160.SH',\n",
       " '512400.SH',\n",
       " '159755.SZ',\n",
       " '159796.SZ',\n",
       " '561160.SH',\n",
       " '516110.SH',\n",
       " '515250.SH',\n",
       " '516520.SH',\n",
       " '516920.SH',\n",
       " '159995.SZ',\n",
       " '512760.SH',\n",
       " '588200.SH',\n",
       " '561100.SH',\n",
       " '159732.SZ',\n",
       " '515880.SH',\n",
       " '159695.SZ',\n",
       " '512480.SH',\n",
       " '515050.SH',\n",
       " '159786.SZ',\n",
       " '515000.SH',\n",
       " '512980.SH',\n",
       " '159939.SZ',\n",
       " '159819.SZ',\n",
       " '159998.SZ',\n",
       " '560800.SH',\n",
       " '515070.SH',\n",
       " '515400.SH',\n",
       " '515230.SH',\n",
       " '159852.SZ',\n",
       " '517050.SH',\n",
       " '516510.SH',\n",
       " '159807.SZ',\n",
       " '159869.SZ',\n",
       " '515580.SH',\n",
       " '516770.SH',\n",
       " '512220.SH',\n",
       " '512330.SH',\n",
       " '588100.SH',\n",
       " '562920.SH',\n",
       " '515980.SH',\n",
       " '512170.SH',\n",
       " '512010.SH',\n",
       " '512290.SH',\n",
       " '159992.SZ',\n",
       " '159938.SZ',\n",
       " '159859.SZ',\n",
       " '516820.SH',\n",
       " '159657.SZ',\n",
       " '159883.SZ',\n",
       " '515950.SH',\n",
       " '159929.SZ',\n",
       " '560080.SH',\n",
       " '159837.SZ',\n",
       " '562860.SH',\n",
       " '159736.SZ',\n",
       " '515170.SH',\n",
       " '512690.SH',\n",
       " '159928.SZ',\n",
       " '159865.SZ',\n",
       " '159825.SZ',\n",
       " '159766.SZ',\n",
       " '512600.SH',\n",
       " '515650.SH',\n",
       " '510630.SH',\n",
       " '510150.SH',\n",
       " '516600.SH',\n",
       " '159996.SZ',\n",
       " '512200.SH',\n",
       " '516970.SH',\n",
       " '516950.SH',\n",
       " '159745.SZ',\n",
       " '512880.SH',\n",
       " '512000.SH',\n",
       " '512800.SH',\n",
       " '515290.SH',\n",
       " '512070.SH',\n",
       " '510230.SH',\n",
       " '159940.SZ',\n",
       " '159993.SZ',\n",
       " '510810.SH',\n",
       " '512950.SH',\n",
       " '512960.SH',\n",
       " '515900.SH',\n",
       " '560700.SH',\n",
       " '560070.SH',\n",
       " '561960.SH',\n",
       " '517180.SH',\n",
       " '159623.SZ',\n",
       " '159743.SZ',\n",
       " '512970.SH',\n",
       " '515150.SH',\n",
       " '512650.SH',\n",
       " '562990.SH',\n",
       " '159790.SZ',\n",
       " '512580.SH',\n",
       " '517160.SH',\n",
       " '517330.SH',\n",
       " '159611.SZ',\n",
       " '561170.SH',\n",
       " '560180.SH',\n",
       " '515220.SH',\n",
       " '159870.SZ',\n",
       " '515210.SH',\n",
       " '159671.SZ',\n",
       " '159652.SZ',\n",
       " '560860.SH',\n",
       " '516150.SH',\n",
       " '510410.SH',\n",
       " '159666.SZ',\n",
       " '516260.SH',\n",
       " '516530.SH',\n",
       " '510880.SH',\n",
       " '159905.SZ',\n",
       " '515180.SH',\n",
       " '515080.SH',\n",
       " '512750.SH',\n",
       " '159973.SZ',\n",
       " '518880.SH',\n",
       " '159985.SZ',\n",
       " '159981.SZ']"
      ]
     },
     "execution_count": 6,
     "metadata": {},
     "output_type": "execute_result"
    }
   ],
   "source": [
    "zh_code_full = []\n",
    "for c in zh_code:\n",
    "    cs = str(c)\n",
    "    if cs[0] == '1':\n",
    "        zh_code_full.append(cs + '.SZ')\n",
    "    elif cs[0] == '5':\n",
    "        zh_code_full.append(cs + '.SH')\n",
    "    else:\n",
    "        print(cs)\n",
    "zh_code_full"
   ]
  },
  {
   "cell_type": "code",
   "execution_count": 15,
   "id": "afe2951b",
   "metadata": {},
   "outputs": [],
   "source": [
    "# save\n",
    "zh_save = os.path.join(father_path1, \"storage\\\\行业主题etf名单.pkl\")\n",
    "f_save = open(zh_save, 'wb')\n",
    "pickle.dump(zh_code_full, f_save)\n",
    "f_save.close()\n"
   ]
  },
  {
   "cell_type": "code",
   "execution_count": 7,
   "id": "8065c605",
   "metadata": {},
   "outputs": [],
   "source": [
    "zq_path =  os.path.join(father_path1, \"meta\\\\债券etf名单.xlsx\")\n",
    "zq = pd.read_excel(zq_path)"
   ]
  },
  {
   "cell_type": "code",
   "execution_count": null,
   "id": "582f2e58",
   "metadata": {},
   "outputs": [],
   "source": []
  },
  {
   "cell_type": "code",
   "execution_count": 8,
   "id": "02a0d880",
   "metadata": {},
   "outputs": [
    {
     "data": {
      "text/plain": [
       "[511360,\n",
       " 511030,\n",
       " 159650,\n",
       " 159649,\n",
       " 511520,\n",
       " 511380,\n",
       " 159816,\n",
       " 159972,\n",
       " 511220,\n",
       " 511020,\n",
       " 511060,\n",
       " 511270,\n",
       " 511010,\n",
       " 511260]"
      ]
     },
     "execution_count": 8,
     "metadata": {},
     "output_type": "execute_result"
    }
   ],
   "source": [
    "zq_code = []\n",
    "for i in zq.index:\n",
    "    zq_code.append(zq['id'][i])\n",
    "zq_code"
   ]
  },
  {
   "cell_type": "code",
   "execution_count": 9,
   "id": "47113510",
   "metadata": {
    "scrolled": true
   },
   "outputs": [
    {
     "data": {
      "text/plain": [
       "['511360.SH',\n",
       " '511030.SH',\n",
       " '159650.SZ',\n",
       " '159649.SZ',\n",
       " '511520.SH',\n",
       " '511380.SH',\n",
       " '159816.SZ',\n",
       " '159972.SZ',\n",
       " '511220.SH',\n",
       " '511020.SH',\n",
       " '511060.SH',\n",
       " '511270.SH',\n",
       " '511010.SH',\n",
       " '511260.SH']"
      ]
     },
     "execution_count": 9,
     "metadata": {},
     "output_type": "execute_result"
    }
   ],
   "source": [
    "zq_code_full = []\n",
    "for c in zq_code:\n",
    "    cs = str(c)\n",
    "    if cs[0] == '1':\n",
    "        zq_code_full.append(cs + '.SZ')\n",
    "    elif cs[0] == '5':\n",
    "        zq_code_full.append(cs + '.SH')\n",
    "    else:\n",
    "        print(cs)\n",
    "zq_code_full"
   ]
  },
  {
   "cell_type": "code",
   "execution_count": 17,
   "id": "1ce5610d",
   "metadata": {},
   "outputs": [],
   "source": [
    "zq_save = os.path.join(father_path1, \"storage\\\\债券etf名单.pkl\")\n",
    "f_save = open(zq_save, 'wb')\n",
    "pickle.dump(zq_code_full, f_save)\n",
    "f_save.close()"
   ]
  },
  {
   "cell_type": "code",
   "execution_count": 10,
   "id": "0e11f37c",
   "metadata": {},
   "outputs": [],
   "source": [
    "zs_path =  os.path.join(father_path1, \"meta\\\\指数etf名单.xlsx\")\n",
    "zs = pd.read_excel(zs_path)"
   ]
  },
  {
   "cell_type": "code",
   "execution_count": 11,
   "id": "6107db8f",
   "metadata": {},
   "outputs": [
    {
     "data": {
      "text/plain": [
       "[510300,\n",
       " 588000,\n",
       " 510050,\n",
       " 510500,\n",
       " 513050,\n",
       " 159915,\n",
       " 513330,\n",
       " 510180,\n",
       " 513180,\n",
       " 159920,\n",
       " 159941,\n",
       " 512100,\n",
       " 513060,\n",
       " 560050,\n",
       " 159781,\n",
       " 159792,\n",
       " 159901,\n",
       " 513500,\n",
       " 510900,\n",
       " 513980,\n",
       " 513550,\n",
       " 517300,\n",
       " 515800,\n",
       " 517080,\n",
       " 513120,\n",
       " 159636,\n",
       " 513700,\n",
       " 513090,\n",
       " 510210,\n",
       " 513030,\n",
       " 159866,\n",
       " 517100,\n",
       " 513970,\n",
       " 513360,\n",
       " 159628,\n",
       " 159912]"
      ]
     },
     "execution_count": 11,
     "metadata": {},
     "output_type": "execute_result"
    }
   ],
   "source": [
    "zs_code = []\n",
    "for i in zs.index:\n",
    "    zs_code.append(zs['id'][i])\n",
    "zs_code"
   ]
  },
  {
   "cell_type": "code",
   "execution_count": 12,
   "id": "28501dd0",
   "metadata": {},
   "outputs": [
    {
     "data": {
      "text/plain": [
       "['510300.SH',\n",
       " '588000.SH',\n",
       " '510050.SH',\n",
       " '510500.SH',\n",
       " '513050.SH',\n",
       " '159915.SZ',\n",
       " '513330.SH',\n",
       " '510180.SH',\n",
       " '513180.SH',\n",
       " '159920.SZ',\n",
       " '159941.SZ',\n",
       " '512100.SH',\n",
       " '513060.SH',\n",
       " '560050.SH',\n",
       " '159781.SZ',\n",
       " '159792.SZ',\n",
       " '159901.SZ',\n",
       " '513500.SH',\n",
       " '510900.SH',\n",
       " '513980.SH',\n",
       " '513550.SH',\n",
       " '517300.SH',\n",
       " '515800.SH',\n",
       " '517080.SH',\n",
       " '513120.SH',\n",
       " '159636.SZ',\n",
       " '513700.SH',\n",
       " '513090.SH',\n",
       " '510210.SH',\n",
       " '513030.SH',\n",
       " '159866.SZ',\n",
       " '517100.SH',\n",
       " '513970.SH',\n",
       " '513360.SH',\n",
       " '159628.SZ',\n",
       " '159912.SZ']"
      ]
     },
     "execution_count": 12,
     "metadata": {},
     "output_type": "execute_result"
    }
   ],
   "source": [
    "zs_code_full = []\n",
    "for c in zs_code:\n",
    "    cs = str(c)\n",
    "    if cs[0] == '1':\n",
    "        zs_code_full.append(cs + '.SZ')\n",
    "    elif cs[0] == '5':\n",
    "        zs_code_full.append(cs + '.SH')\n",
    "    else:\n",
    "        print(cs)\n",
    "zs_code_full"
   ]
  },
  {
   "cell_type": "code",
   "execution_count": 18,
   "id": "48cee4f5",
   "metadata": {},
   "outputs": [],
   "source": [
    "zs_save = os.path.join(father_path1, \"storage\\\\指数etf名单.pkl\")\n",
    "f_save = open(zs_save, 'wb')\n",
    "pickle.dump(zs_code_full, f_save)\n",
    "f_save.close()"
   ]
  },
  {
   "cell_type": "code",
   "execution_count": null,
   "id": "b65fedcf",
   "metadata": {},
   "outputs": [],
   "source": []
  }
 ],
 "metadata": {
  "kernelspec": {
   "display_name": "Python 3 (ipykernel)",
   "language": "python",
   "name": "python3"
  },
  "language_info": {
   "codemirror_mode": {
    "name": "ipython",
    "version": 3
   },
   "file_extension": ".py",
   "mimetype": "text/x-python",
   "name": "python",
   "nbconvert_exporter": "python",
   "pygments_lexer": "ipython3",
   "version": "3.10.9"
  }
 },
 "nbformat": 4,
 "nbformat_minor": 5
}
