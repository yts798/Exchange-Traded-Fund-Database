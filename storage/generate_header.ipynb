{
 "cells": [
  {
   "cell_type": "code",
   "execution_count": 10,
   "id": "b16fc0cc",
   "metadata": {},
   "outputs": [],
   "source": [
    "import pandas as pd\n",
    "import numpy as np\n",
    "import pickle\n",
    "import time \n",
    "import os\n",
    "from datetime import datetime\n",
    "\n",
    "pwd = os.getcwd()  \n",
    "father_path1=os.path.abspath(os.path.dirname(pwd)+os.path.sep+\".\")\n",
    "\n",
    "zh_path = os.path.join(pwd, \"行业主题etf名单.pkl\")\n",
    "zq_path = os.path.join(pwd, \"债券etf名单.pkl\")\n",
    "zs_path = os.path.join(pwd, \"指数etf名单.pkl\")\n",
    "# re-open\n",
    "with open(zh_path, 'rb') as f:  \n",
    "    zh_code = pickle.load(f)\n",
    "    \n",
    "with open(zq_path, 'rb') as f:  \n",
    "    zq_code = pickle.load(f)\n",
    "    \n",
    "with open(zs_path, 'rb') as f:  \n",
    "    zs_code = pickle.load(f)\n",
    "    "
   ]
  },
  {
   "cell_type": "code",
   "execution_count": 11,
   "id": "230d44ad",
   "metadata": {},
   "outputs": [],
   "source": [
    "# 行业主题etf名单\n",
    "df = pd.DataFrame(columns=zh_code)\n",
    "df.to_csv('行业.csv')   "
   ]
  },
  {
   "cell_type": "code",
   "execution_count": 12,
   "id": "e996a06d",
   "metadata": {},
   "outputs": [],
   "source": [
    "# 债券主题etf名单\n",
    "df = pd.DataFrame(columns=zq_code)\n",
    "df.to_csv('债券.csv')   "
   ]
  },
  {
   "cell_type": "code",
   "execution_count": 13,
   "id": "f7f32aaf",
   "metadata": {},
   "outputs": [],
   "source": [
    "# 指数主题etf名单\n",
    "df = pd.DataFrame(columns=zs_code)\n",
    "df.to_csv('指数.csv')   "
   ]
  },
  {
   "cell_type": "code",
   "execution_count": null,
   "id": "f18f6865",
   "metadata": {},
   "outputs": [],
   "source": []
  }
 ],
 "metadata": {
  "kernelspec": {
   "display_name": "Python 3 (ipykernel)",
   "language": "python",
   "name": "python3"
  },
  "language_info": {
   "codemirror_mode": {
    "name": "ipython",
    "version": 3
   },
   "file_extension": ".py",
   "mimetype": "text/x-python",
   "name": "python",
   "nbconvert_exporter": "python",
   "pygments_lexer": "ipython3",
   "version": "3.10.9"
  }
 },
 "nbformat": 4,
 "nbformat_minor": 5
}
